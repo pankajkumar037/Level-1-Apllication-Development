{
 "cells": [
  {
   "cell_type": "code",
   "execution_count": 2,
   "metadata": {},
   "outputs": [
    {
     "name": "stdout",
     "output_type": "stream",
     "text": [
      "2 + 3 = 5\n"
     ]
    }
   ],
   "source": [
    "import os\n",
    "from dotenv import load_dotenv,find_dotenv\n",
    "_=load_dotenv(find_dotenv())\n",
    "google_api_key=os.environ['GEMINI_API_KEY']\n",
    "\n",
    "from langchain_google_genai import ChatGoogleGenerativeAI\n",
    "llm = ChatGoogleGenerativeAI(model=\"gemini-1.5-pro\",api_key=google_api_key)\n",
    "\n",
    "#testing\n",
    "response=llm.invoke(\"what is 2+3\")\n",
    "print(response.content)"
   ]
  },
  {
   "cell_type": "markdown",
   "metadata": {},
   "source": [
    "#Loading PDF Data"
   ]
  },
  {
   "cell_type": "code",
   "execution_count": 3,
   "metadata": {},
   "outputs": [
    {
     "name": "stdout",
     "output_type": "stream",
     "text": [
      "Collecting pypdf\n",
      "  Using cached pypdf-5.1.0-py3-none-any.whl.metadata (7.2 kB)\n",
      "Using cached pypdf-5.1.0-py3-none-any.whl (297 kB)\n",
      "Installing collected packages: pypdf\n",
      "Successfully installed pypdf-5.1.0\n"
     ]
    }
   ],
   "source": [
    "!pip install pypdf"
   ]
  },
  {
   "cell_type": "code",
   "execution_count": 6,
   "metadata": {},
   "outputs": [
    {
     "name": "stderr",
     "output_type": "stream",
     "text": [
      "<>:2: SyntaxWarning: invalid escape sequence '\\s'\n",
      "<>:2: SyntaxWarning: invalid escape sequence '\\s'\n",
      "C:\\Users\\panka\\AppData\\Local\\Temp\\ipykernel_12892\\1347100815.py:2: SyntaxWarning: invalid escape sequence '\\s'\n",
      "  path=\"Data\\safepdf.pdf\"\n"
     ]
    }
   ],
   "source": [
    "from langchain_community.document_loaders import PyPDFLoader\n",
    "path=\"Data\\safepdf.pdf\"\n",
    "loader=PyPDFLoader(file_path=path)\n",
    "data=loader.load()"
   ]
  },
  {
   "cell_type": "code",
   "execution_count": 9,
   "metadata": {},
   "outputs": [
    {
     "data": {
      "text/plain": [
       "[Document(metadata={'source': 'Data\\\\safepdf.pdf', 'page': 0}, page_content='Rescue Care: Revolutionizing \\nAccident and Emergency Response \\nwith Smart Assistance\\nRescue Care is a comprehensive solution for accidents involving humans or animals, \\noffering instant assistance during emergencies and providing peace of mind.'),\n",
       " Document(metadata={'source': 'Data\\\\safepdf.pdf', 'page': 1}, page_content='The Problem:\\nRoad accidents are a major global issue, causing severe harm to both humans and \\nanimals. After an accident, immediate medical support is crucial in preventing \\nfatalities and minimizing long-term damage. Millions of lives could be saved every \\nyear if timely intervention like medical services alert system in emergency is ensured. \\nOur Proposed solution:\\nWe are developing a Smart Alert Platform to provide immediate assistance during \\nroad accidents. The platform quickly notifies the nearest health services, primarily \\nSadar hospitals, and dispatches ambulances using real-time GPS data. Pre-listed \\nfamily members receive instant alerts, while nearby individuals are encouraged to \\nprovide on-site help. This solution aims to reduce response time and ensure timely \\nmedical intervention, ultimately saving lives.'),\n",
       " Document(metadata={'source': 'Data\\\\safepdf.pdf', 'page': 2}, page_content=\"Problem Analysis: Delayed Response in   Emergency \\nSituations\\nUnforeseen Events:\\nAccidents happen unexpectedly, \\nleaving individuals vulnerable and \\nwithout immediate assistance.\\nLack of Awareness:\\nfamily members or emergency services \\nmay be unaware of an accident, it can \\nresult in critical delays in the emergency \\nresponse.\\nLimited Resources:\\nTraditional emergency response \\nsystems often struggle to reach \\nremote locations or handle high \\nvolumes of calls.\\nLack of Communication:\\nPeople at an accident site usually don't \\ncommunicate with the hospital about the \\nvictim's condition, whether someone is \\ntaking the victim to the hospital, or if an \\nambulance is on its way.\\nDelayed Medical Help:\\nIn many cases victims gets medical \\nhelp after Golden Hour.\"),\n",
       " Document(metadata={'source': 'Data\\\\safepdf.pdf', 'page': 3}, page_content='Proposed Solution :\\nWe are developing a Smart Alert Platform designed to provide immediate assistance \\nin case of road accidents. Our platform automatically triggers alerts to:\\n\\uf0a7 Nearest Health Services: The closest hospitals (initially targeting Sadar hospitals) are notified for quick \\nmedical response.\\n\\uf0a7 Emergency Medical Services: Ambulances and paramedics are dispatched to the accident location based \\non real-time GPS  data.\\n\\uf0a7 Family Members: Pre-listed family contacts are instantly informed, ensuring they receive updates and \\ncan respond accordingly.\\n\\uf0a7 Nearby Crowd: The platform also alerts nearby individuals, encouraging them to provide immediate on-\\nsite assistance while professional help is on its way.\\n\\uf0d8 In Case of Helping Others Alerted Hospitals or Medical services contact details provided to Helper\\nThis feature ensures seamless communication, allowing helpers to confirm whether an ambulance is en-\\nroute to the scene or if they should transport the victim to the hospital themselves'),\n",
       " Document(metadata={'source': 'Data\\\\safepdf.pdf', 'page': 4}, page_content='Solution: Efficient and Seamless Emergency Assistance\\nInstant Alert:\\nOur system automatically alerts \\nthe nearest emergency \\nservices (initially starting with \\ngovernment hospitals) and \\ndesignated contacts in the \\nevent of an accident\\nReal-time Tracking:\\nAccurate location tracking \\nensures a rapid and precise \\nresponse from first \\nresponders.\\nPersonalized Support:\\nOur platform offers tailored support for \\nvarious emergencies, including medical \\nand roadside assistance.\\nCrowd support:\\nOur system automatically alerts users \\nof the same application within a \\nspecified range.\\nAutomatic Accident \\nDetection:\\nBuilt-in sensors automatically \\ndetect accidents and trigger \\nalerts, regardless of user \\nconsciousness.\\nAnimal Help:\\nOur system automatically alerts \\nnearest NGO ,Hospital or veterinary\\nIf someone wants to help animals '),\n",
       " Document(metadata={'source': 'Data\\\\safepdf.pdf', 'page': 5}, page_content='Features overview:\\n• Self-Help Mode: Automatic notifications with real-time tracking.\\n• Other-Help Mode: Quick reporting just clicking photo and Sharing Location, \\napplicable for both humans and animals.\\n• Crowd Support: Connects nearby helpers to the scene for immediate aid.\\n• Health Services Integration: Direct contact with nearest hospitals or health \\nservices.\\n• Rewards System: Incentivizes users who assist others.\\n• Subscription Benefits: Personalized emergency tracking until the client reaches \\nthe hospital and further help.'),\n",
       " Document(metadata={'source': 'Data\\\\safepdf.pdf', 'page': 6}, page_content='Competitor Overview:\\n1. Apple Crash Detection\\no Automatic crash detection using device sensors\\no Direct Communication with emergency services\\no Integration with apple heath for medical information sharing\\no Market Overview:\\no Apple Crash Detection is a feature built into the iPhone 14 series and the Apple Watch Series 8\\no The feature is primarily targeted at Apple’s existing user base\\n2. Life 360\\no Family location sharing and real-time alerts.\\no Emergency SOS feature that connects users with local emergency services.\\no Driving reports and safety features for family members.\\no Market Overview:\\no Life360 is a leading family safety app, boasting over 33 million active users globally. It is widely popular \\nin North America,\\no The app has expanded its services beyond the U.S. into Europe and Australia'),\n",
       " Document(metadata={'source': 'Data\\\\safepdf.pdf', 'page': 7}, page_content='Weakness of our Competitor:\\n1. Life 360\\no Limited geographical coverage specially in United States.\\no Subscription Dependency: Advanced features like crash detection and SOS alerts are locked behind a \\npaid subscription, limiting accessibility for users who opt for the free version.\\no Over-reliance on User Input: Certain features, such as driving reports, require manual user engagement \\nor permissions, which can reduce effectiveness in real emergency situations.\\no No Involvement with Medical Services: While the app provides emergency alerts, it lacks direct \\nintegration with medical services, potentially delaying emergency response times.\\n2. Apple Crash Detection\\no Platform Exclusivity: Crash Detection is currently only available on the latest iPhone and Apple Watch \\nmodels, making it inaccessible to a broader audience. This limits its impact in the global market, \\nparticularly in regions where Android dominates.\\no Family Notifications: Emergency services are contacted first, and family members are notified afterward, \\nwhich could delay family involvement and coordination in critical situations.\\no Data privacy concerns'),\n",
       " Document(metadata={'source': 'Data\\\\safepdf.pdf', 'page': 8}, page_content='.\\n•How We Stand Out:\\n•Comprehensive Modes: Covering both self-help and third-party intervention, even including \\nanimals.\\n•Crowd Help : A unique approach to real-time assistance.(Specially in Asian Region)\\n•Reward System for Helping Victims: Providing reward to helpers with collaboration with \\ngovernments eg. Rajasthan govt. has announced incentive to victim helpers and Giving monetary \\nand scratch  card incentives \\n•Services like Accident detection and smart Alert should be free.\\n•Organization Collaboration: Working with healthcare providers and non-profits to extend our \\nreach.\\n•Providing Real-time Support: Our platform connects users with qualified professionals, \\nincluding medical, roadside, and animal care specialists.\\nOur Competitive Edge over Competitor : '),\n",
       " Document(metadata={'source': 'Data\\\\safepdf.pdf', 'page': 9}, page_content=\".\\n•How We Stand Out:\\n•Data Privacy:\\n•Covering self-help and third-party intervention, including animals, while ensuring data encryption and \\nanonymity when sharing personal details to protect users' privacy.\\n•user data is kept private, with only necessary details shared, adhering to strict data privacy regulations\\nand government-approved standards.\\n• Multi-Language Support: To cater to India’s diverse population, our platform will offer multi-language \\nsupport, ensuring accessibility for users across different regions and languages, enhancing user \\nexperience.\\n• Subscription Model: Ensuring personalized follow-ups and post-accident care, unlike \\ncompetitors.\\n• User Empowerment and Education: We provide users with educational resources on accident \\nprevention and emergency response, empowering them to take proactive measures. This approach not \\nonly enhances user engagement but also builds a more informed community.\\nOur Competitive Edge  over Competitor : \"),\n",
       " Document(metadata={'source': 'Data\\\\safepdf.pdf', 'page': 10}, page_content='Revenue Generation Strategies:\\n•Targeted Advertising: Allow carefully vetted ads from relevant businesses (e.g., \\nhealth services, auto insurance companies) within the app\\n•Subscription Services: Personalized accident tracking and hospital follow-ups for \\npremium users.\\n•Public Safety Collaborations: Work with local and state governments to provide your \\nplatform as a public safety tool, securing contracts for implementation in public services, \\nincluding emergency response systems.\\nCrowd Help Incentives: Sponsored rewards and partnerships to enhance user \\nengagement.\\n•Sponsorship Deals: Partner with brands in the automotive, healthcare, or safety \\nsectors to sponsor features or sections of the app,generating additional revenue.\\n•Promotional Collaboration: Collaborate with automotive and safety product companies \\nfor promotional campaigns targeting your user base.\\n•Crowd Help Donations: Facilitate donations or small fees for users who wish to support \\ncrowd helpers, which can be collected through the app.'),\n",
       " Document(metadata={'source': 'Data\\\\safepdf.pdf', 'page': 11}, page_content='Societal Impact:\\n•Social Responsibility: Reducing response time in emergencies and saving lives.\\n•Community Building: Creating a culture of mutual aid by rewarding those who help.\\n•Increased Road Safety:By providing timely alerts and assistance during accidents, your \\nplatform can help reduce the severity of injuries and fatalities, contributing to overall road safety \\nin communities.\\n•Empowerment through Technology:Your platform empowers users by giving them the \\ntools and resources to respond effectively in emergencies, promoting a proactive approach to \\nsafety rather than a reactive one.\\n•Contribution to Sustainable Development Goals (SDGs)\\nwe can align with the UN’s Sustainable Development Goals, particularly Goal 3 (Good Health \\nand Well-being) and Goal 11 (Sustainable Cities and Communities), by promoting safer and \\nhealthier urban environments.'),\n",
       " Document(metadata={'source': 'Data\\\\safepdf.pdf', 'page': 12}, page_content='Business Impact:\\n>Brand Loyalty and Trust:A focus on user privacy, safety, and community support \\nfosters trust and loyalty among users, leading to higher retention rates and long-term \\ncustomer relationships.\\n> Market Differentiation:By offering unique features such as crowd help and \\nanimal assistance, your startup can stand out in a crowded market, attracting \\nusers seeking comprehensive safety solutions.\\n>Partnerships and Collaborations:with healthcare providers, government agencies,      \\nand NGOs can enhance service delivery, expand your reach, and create mutually \\nbeneficial relationships that drive growth.'),\n",
       " Document(metadata={'source': 'Data\\\\safepdf.pdf', 'page': 13}, page_content='Scaling Rescue Care:\\n•Geographical Expansion: Initially targeting urban areas, expanding to rural \\nregions where emergency response times are slower.\\n•Integration with Wearables: Sync with fitness trackers and smartwatches \\nfor real-time health monitoring.\\n•Corporate Collaborations: Collaborating with companies for employee \\nsafety solutions.\\n•Animal Welfare Collaborations: Partnering with animal rescue \\norganizations to integrate the animal emergency feature \\n•R&D Investment: Invest in research and development to continuously improve \\nand innovate your services, keeping you ahead of competitors and aligned \\nwith user needs.\\n•Market Expansion: Collaborate with local healthcare providers, \\ngovernment agencies, and NGOs to enhance credibility and expand \\nreach in new markets.'),\n",
       " Document(metadata={'source': 'Data\\\\safepdf.pdf', 'page': 14}, page_content='Rescue Care – Your \\nLifeline in Emergencies\\nBecause in the moments that matter most, we ensure help \\nis just one tap away.\\n•Saving lives, protecting loved ones, and empowering \\ncommunities.\\n•Join us in making the world a safer place for everyone –\\nanytime, anywhere.')]"
      ]
     },
     "execution_count": 9,
     "metadata": {},
     "output_type": "execute_result"
    }
   ],
   "source": [
    "data"
   ]
  },
  {
   "cell_type": "code",
   "execution_count": 27,
   "metadata": {},
   "outputs": [
    {
     "name": "stdout",
     "output_type": "stream",
     "text": [
      "Rescue Care: Revolutionizing \n",
      "Accident and Emergency Response \n",
      "with Smart Assistance\n",
      "Rescue Care is a comprehensive solution for accidents involving humans or animals, \n",
      "offering instant assistance during emergencies and providing peace of mind.\n"
     ]
    }
   ],
   "source": [
    "print(data[0].page_content)"
   ]
  },
  {
   "cell_type": "markdown",
   "metadata": {},
   "source": [
    "#creating RAG"
   ]
  },
  {
   "cell_type": "code",
   "execution_count": 30,
   "metadata": {},
   "outputs": [],
   "source": [
    "!pip install -qU langchain-community faiss-cpu"
   ]
  },
  {
   "cell_type": "code",
   "execution_count": 13,
   "metadata": {},
   "outputs": [],
   "source": [
    "#1 Chunking the Data\n",
    "\n",
    "from langchain_text_splitters import RecursiveCharacterTextSplitter\n",
    "text_splitter=RecursiveCharacterTextSplitter(chunk_size=100,chunk_overlap=20)\n",
    "splits=text_splitter.split_documents(data)"
   ]
  },
  {
   "cell_type": "code",
   "execution_count": 21,
   "metadata": {},
   "outputs": [
    {
     "data": {
      "text/plain": [
       "[0.05168594419956207,\n",
       " -0.030764883384108543,\n",
       " -0.03062233328819275,\n",
       " -0.02802734263241291,\n",
       " 0.01813093200325966]"
      ]
     },
     "execution_count": 21,
     "metadata": {},
     "output_type": "execute_result"
    }
   ],
   "source": [
    "from langchain_google_genai import GoogleGenerativeAIEmbeddings\n",
    "embeddings = GoogleGenerativeAIEmbeddings(model=\"models/embedding-001\",google_api_key=google_api_key)\n",
    "vector = embeddings.embed_query(\"hello, world!\")\n",
    "vector[:5]\n"
   ]
  },
  {
   "cell_type": "code",
   "execution_count": 32,
   "metadata": {},
   "outputs": [
    {
     "data": {
      "text/plain": [
       "['275f65e4-6a24-41e3-ad65-daccb798a8ee',\n",
       " '95441c42-8097-4a3b-8b9b-16194b1b6fcb',\n",
       " '8d3e69f4-ba20-4424-8f9c-3f3651ce9a07',\n",
       " '35cbde94-655f-4883-8d9c-6ce8ee26ffc5',\n",
       " '256c27b4-be41-4fa2-8dc4-2c7ff2e3c99c',\n",
       " '5c1bf0fa-c28e-4a84-b15a-ba492be01a5f',\n",
       " '1580498d-802a-4a8d-8a67-94177700fb5e',\n",
       " '5388c8f4-5c96-4622-ad76-a639ae3d28c9',\n",
       " '00cd84b8-0669-4066-8438-ede45edb9fee',\n",
       " '669006da-9085-4725-847f-787937e2703f',\n",
       " 'b18bcd02-8dc0-48ca-8d28-fd0defe2a42f',\n",
       " '30ef6622-bb7a-47bb-ad44-daab4cb5969f',\n",
       " '55faf2a9-61dc-4dfd-bfe8-3941539f812a',\n",
       " '8c8ce73c-ca6a-43da-876e-07d29b864722',\n",
       " '66169527-6431-4e55-8b43-1808c9071a1e',\n",
       " 'c88f5409-cd5d-4520-a669-0ca3827a25aa',\n",
       " '1cc40e90-6076-448e-b3d8-d4ca23ecaae2',\n",
       " '9bf5d5b5-b8cf-40ce-9f0e-81b2c0514d2e',\n",
       " '05d4723d-1b36-41fa-b11f-f1da5c80a4fc',\n",
       " '7b462fca-4074-41ff-970f-009173489668',\n",
       " '71833614-a4fd-4a5f-a827-739e651e3a03',\n",
       " 'd150e448-b581-49f4-828f-70405b40d7f2',\n",
       " 'd81a4a99-5834-4f51-a469-b6f8372993e4',\n",
       " '60a3bc95-2df9-4baf-9a64-b9c5a568004d',\n",
       " 'b16acb08-c86d-467c-a476-1c1dfbca02cc',\n",
       " '5fe7d0a1-e699-4f34-8010-671ec28c7851',\n",
       " 'c034e67e-2461-4489-8d8f-db486a3e8bbd',\n",
       " 'dd57df89-4fec-44f6-927d-6198e6a4dd49',\n",
       " 'dc56f970-034a-4665-bc84-352ba5f23a0d',\n",
       " '596115b9-c088-42eb-896f-793358eb9bb0',\n",
       " 'ae6c7e63-7db1-4d68-afce-b12bf0f29ec1',\n",
       " 'e08b45a8-b8c4-4c1f-b073-8fac46af4d34',\n",
       " 'c6bbb010-5978-45b3-871b-0db178fe8193',\n",
       " '6ed6aaba-9e1a-40a2-839f-2417d39706b3',\n",
       " '45ee2226-ebe0-482b-9633-d3c39d5fe8e4',\n",
       " 'c974ad53-70d5-49a1-bca5-cd6ca8efac51',\n",
       " '60222771-722b-4fcf-a695-c532aef9f059',\n",
       " '218d52f0-bd70-4b21-bbbd-a72e3c30fec4',\n",
       " 'b2ed8f57-5c0b-460d-a419-2255c225bfc0',\n",
       " '198790fe-8bea-40e0-bcf2-32a4697d8de2',\n",
       " '712323e2-0f63-49e9-adb2-dda330b285ec',\n",
       " 'b198ba89-2df2-4728-8fc0-b618fabe00ec',\n",
       " '01cf8d39-76f1-4129-bef6-8776a6485e0d',\n",
       " '88623869-c34d-4ae5-ab9b-6d318aaf257d',\n",
       " 'f02a2e29-fdcc-448c-9e7e-802b5a3290e2',\n",
       " '80ae653b-1d8f-4556-8c73-7c1eb8bbdbef',\n",
       " '7f5c5e48-7752-4434-9145-60c17566564b',\n",
       " 'b421887a-6532-4574-8b4d-aec9f9654e41',\n",
       " '1c71af79-60ee-4637-9b81-a93c30acbc3b',\n",
       " '783ee0e6-435a-49b7-8e50-a552fecd73da',\n",
       " '26f9d344-5a93-417e-bae9-b2a923895572',\n",
       " '036f508d-515d-49f9-ae9e-9f0b9b67926b',\n",
       " 'ac48cefa-62a1-493b-8453-2d84e7e68068',\n",
       " 'd5a60507-61ee-4a00-b937-f82b44bcd3b1',\n",
       " '78d0d6ea-c31a-4e15-a99c-fbd892626e37',\n",
       " 'f2d6674d-4933-4a5e-8769-83eecdc931ed',\n",
       " '9dd44328-fd77-4fa3-96f0-d9f88f01dfde',\n",
       " '7da6f6b0-daff-49ea-9c92-bd8feb7c81e3',\n",
       " '2eb9a0db-9b9f-4e9f-90e6-53572a1455f5',\n",
       " '33f85027-0cc9-4e34-a434-d3e3b9bd9ec5',\n",
       " 'b89d2e0b-337a-4072-9d4d-4a756e567a79',\n",
       " 'c93d89fd-9e55-447e-9948-2787c89f6efd',\n",
       " 'f03a2aab-bda6-45b1-84a1-89acfe597ec6',\n",
       " 'e3209269-d3f5-40c6-8e70-0b7e33e40772',\n",
       " '68073016-4618-4974-9713-9e2cf3c7f86f',\n",
       " '688f801a-995c-43e4-9dc7-6a36722a56f3',\n",
       " '1b8c4da4-113d-4650-9d7f-d01f9b297929',\n",
       " '81b755a6-2814-44b8-a45f-d5f8549af8a4',\n",
       " '8ff75483-0523-4f3c-8785-94a13b9951b5',\n",
       " 'f3ec2617-c7a9-4ad0-859b-672926e8c729',\n",
       " '1e77f85d-1bc2-4d28-a042-cdf6d9659d76',\n",
       " 'a5ff62d0-e408-46d1-afc2-1148f4dd712d',\n",
       " 'a0eaee93-72fe-4d12-892c-f46e3b30b285',\n",
       " '66a07dd2-d06c-4718-a7b0-f2b616f0a7fc',\n",
       " 'c55b58e7-7883-4075-9063-500e157b00ee',\n",
       " 'eee2b8ce-dae9-4fb8-8e5b-8457a64ba140',\n",
       " 'bf571ef4-ecc3-4a84-b884-e22391828935',\n",
       " '477ee7b5-1eb2-4b67-a550-74b3bf3744b7',\n",
       " '1527edbb-2449-4056-9a34-36a4d3092ea7',\n",
       " '086d3aca-fae2-4314-ae57-16c016005378',\n",
       " '124336f2-5ae9-41fe-a96f-e6d30166c5c1',\n",
       " 'd2f0601b-6971-4868-9c68-081b303ad0cc',\n",
       " '9d3ce9ba-8717-4847-a739-77dbac23dabc',\n",
       " '8f6cb033-1962-48da-bcb9-fd1f4c9f9ed5',\n",
       " 'a4b87e8d-6e77-4f31-a616-88c6cf66829b',\n",
       " '58bd6862-0fae-4b2d-9697-1dd9c342988e',\n",
       " '92c16de6-da19-448b-8d60-084c01c6a7d6',\n",
       " '7f078477-ef4c-41f4-ae78-a9e05525a70c',\n",
       " '4262913e-df46-4a90-9db8-ecdac7f075f2',\n",
       " 'a41edfa5-2d2a-45db-be39-72eb8bcd4703',\n",
       " 'a1a341a4-7bf8-45ff-932a-92bd9d2dfd9d',\n",
       " 'ce364917-3402-4723-ba49-844c2a1ff078',\n",
       " '5c5213d2-2838-4606-8c6c-1c01a3c0d9af',\n",
       " '9eacaebd-d112-449c-82c7-0674af3d0f29',\n",
       " '397fd91a-475a-4523-aa09-3ac5e4db3f35',\n",
       " 'eff9d50b-ac27-4ae0-ad42-b56ea0988cca',\n",
       " 'ba049296-9e90-4d86-aafa-e888596ebd95',\n",
       " '0f95f25f-3bef-4844-b5f9-0d7082c0fb0c',\n",
       " 'b808c71d-c7e9-4ea3-8124-69a5fa87d019',\n",
       " '93bca076-700e-4095-a0fb-4617fc136023',\n",
       " '7c4e1afa-a1c9-4431-bf5a-0f60a8583f46',\n",
       " '04fffecf-7ac5-4f28-a5a1-8e1ac95eed57',\n",
       " 'b2a26adb-283a-4f8c-a1da-bad76ba26f5b',\n",
       " '49d75258-ad5b-4cfe-acff-9e419dc6e9e9',\n",
       " '642fb7b4-f5ac-4875-9a3d-0483522d504b',\n",
       " '75084482-bc97-4779-a50f-e56016185abe',\n",
       " '5da23b74-4a4c-4c41-b5db-b35f4445ee02',\n",
       " '293516ab-888e-4fa1-b287-efbc3092f408',\n",
       " '4460e542-69a4-420d-adf2-4821bacf2e6b',\n",
       " '1a8d3a9b-359e-48f7-a9a5-57bde11003ad',\n",
       " '52c6ce8b-fb6b-45b2-aba5-2d3c44fddd86',\n",
       " '128ee606-efda-4122-882f-ed8f9cb5b5dd',\n",
       " 'd3c2fc9e-910b-4f81-a7ed-170f5846a1a9',\n",
       " 'fd5df3d1-7386-418f-880e-4502d382e836',\n",
       " 'f9ebb15e-2eb5-425a-9e1d-bd771e5f6c05',\n",
       " 'bc6fba46-0742-41c8-bfae-6af35c99df0b',\n",
       " '7d5a2536-7884-4c7d-8f15-7f109de8731c',\n",
       " '03f4c99a-d27f-4790-a239-727afedb143f',\n",
       " '1acf5aaa-ec11-43b5-9da9-964e7838e643',\n",
       " '417613e2-7e7e-4f75-ac7d-cbc77aac1dcd',\n",
       " 'bdead8bc-ed03-4350-9732-c960dc9e2cad',\n",
       " '269d18d2-05df-4668-89e5-e9af3e3ee85d',\n",
       " 'cf9146d4-23e2-43d7-b257-bbf7844af291',\n",
       " '69ef3881-8c83-4fb2-8c9f-6f2cd0d0366d',\n",
       " '15f6e994-632b-4eb0-ae4b-9f747ac39bd4',\n",
       " 'bee2ad36-af7d-47e6-8185-da1b2ac9a61f',\n",
       " '23c4bea9-07b5-4b71-9d22-1407b1de29ce',\n",
       " '123cca7b-f2fc-4888-b1d6-060be284d223',\n",
       " '3606d365-d901-4bcf-b9b8-f017938b1e09',\n",
       " 'e1be4158-8914-4a1b-a0ef-14decf0ff75c',\n",
       " '2f468aab-cc60-425b-9856-0486eaafb389',\n",
       " '5a9c46fc-a37d-4169-b434-8ffd5ef566cb',\n",
       " 'c5a4a9f9-e700-42c0-9334-1023828baf9e',\n",
       " 'c78eec7d-8087-4f3e-8400-291f41bafc9d',\n",
       " '5cc9086f-c8eb-495a-bdca-80d77ffdeca3',\n",
       " '9e3c7e7c-f776-4108-92fa-44a2e2191e0c',\n",
       " '5b71f0d1-7ee6-4862-83ed-14a8cd175542',\n",
       " '54dab69f-5d8b-4fa4-aacb-d18d8027d36f',\n",
       " '70fb3926-37d9-4dc7-88b9-0733a4d72adc',\n",
       " 'c5deb23b-58de-41c4-bb45-be581f68d6a6',\n",
       " '946f09f8-2a10-4948-ab15-3fadb7d21115',\n",
       " 'f9151de0-a008-4366-8aab-57575b910edd',\n",
       " '8e4965fb-9056-4795-b46f-7f0675157035',\n",
       " '781ad226-7d08-4d6d-899f-13b8c631b800',\n",
       " 'af279c36-19bc-45a1-bcda-bd3c8baead29',\n",
       " '9fcba092-9c82-42a2-bc0f-e44d811f75e9',\n",
       " '0093e8b8-fb16-4c22-bb52-e1ec2c4b18ff',\n",
       " 'a48d2fd2-b222-47e4-83c0-afca3f9e62b5',\n",
       " '61ce17ac-23df-4c73-a887-6798d76fc747',\n",
       " '99c32407-96e3-4ea8-8673-45fbe6f5bfb7',\n",
       " 'ae452f2d-8f32-4eff-91ac-730ee9141bbb',\n",
       " '77f28467-6514-45d3-959e-b683f12e6685',\n",
       " '266f9297-3b93-4407-8423-855afb36724e',\n",
       " '066b39cc-dd64-496b-9e29-6e643f6efdfa',\n",
       " '69da600e-ec58-4a41-9722-a880cbd87ee3',\n",
       " '09cde6ac-94ca-4a4d-a93a-3b54c55f4f4c',\n",
       " 'bcaa6b9f-a854-4b3c-819f-d38a25ceaf41',\n",
       " '8e83d940-d524-4c8a-80cc-61cd7a7be446',\n",
       " '1b29d61b-4751-45ef-8853-389a01e36dad',\n",
       " '04459da5-ec66-4877-9816-34859ec12479',\n",
       " '2dc9b07c-1523-486c-9f31-769f6c5a72e8',\n",
       " '503019b9-3134-4b63-bc76-d953aff7b1ee',\n",
       " '683631f3-8e64-4438-9421-e15783c75aed',\n",
       " 'f015ec9c-6fa0-4c58-a7c1-3c6078675b09',\n",
       " 'b4bc0b1f-e562-4183-ad53-020cb2f4af0b']"
      ]
     },
     "execution_count": 32,
     "metadata": {},
     "output_type": "execute_result"
    }
   ],
   "source": [
    "from langchain_core.vectorstores import InMemoryVectorStore\n",
    "# Initialize with an embedding model\n",
    "vector_store = InMemoryVectorStore(embedding=embeddings)\n",
    "vector_store.add_documents(documents=splits)\n"
   ]
  },
  {
   "cell_type": "code",
   "execution_count": 33,
   "metadata": {},
   "outputs": [],
   "source": [
    "retriver=vector_store.as_retriever()"
   ]
  },
  {
   "cell_type": "code",
   "execution_count": 35,
   "metadata": {},
   "outputs": [
    {
     "data": {
      "text/plain": [
       "\"This startup offers unique features like crowd help and animal assistance, differentiating itself in the market.  It also empowers users through technology.  The provided text doesn't mention any success rate.\""
      ]
     },
     "execution_count": 35,
     "metadata": {},
     "output_type": "execute_result"
    }
   ],
   "source": [
    "from langchain.chains import create_retrieval_chain\n",
    "from langchain.chains.combine_documents import create_stuff_documents_chain\n",
    "from langchain_core.prompts import ChatPromptTemplate\n",
    "\n",
    "system_prompt = (\n",
    "    \"You are an assistant for question-answering tasks. \"\n",
    "    \"Use the following pieces of retrieved context to answer \"\n",
    "    \"the question. If you don't know the answer, say that you \"\n",
    "    \"don't know. Use three sentences maximum and keep the \"\n",
    "    \"answer concise.\"\n",
    "    \"\\n\\n\"\n",
    "    \"{context}\"\n",
    ")\n",
    "\n",
    "prompt = ChatPromptTemplate.from_messages(\n",
    "    [\n",
    "        (\"system\", system_prompt),\n",
    "        (\"human\", \"{input}\"),\n",
    "    ]\n",
    ")\n",
    "\n",
    "question_answer_chain = create_stuff_documents_chain(llm, prompt)\n",
    "\n",
    "rag_chain = create_retrieval_chain(retriver, question_answer_chain)\n",
    "\n",
    "results = rag_chain.invoke({\"input\": \"Give the Breif Summay about it and give extact percentage of succes as a startup\"})\n",
    "\n",
    "results[\"answer\"]"
   ]
  },
  {
   "cell_type": "code",
   "execution_count": null,
   "metadata": {},
   "outputs": [],
   "source": []
  },
  {
   "cell_type": "code",
   "execution_count": null,
   "metadata": {},
   "outputs": [],
   "source": []
  },
  {
   "cell_type": "code",
   "execution_count": null,
   "metadata": {},
   "outputs": [],
   "source": []
  },
  {
   "cell_type": "code",
   "execution_count": null,
   "metadata": {},
   "outputs": [],
   "source": []
  },
  {
   "cell_type": "code",
   "execution_count": null,
   "metadata": {},
   "outputs": [],
   "source": []
  },
  {
   "cell_type": "code",
   "execution_count": null,
   "metadata": {},
   "outputs": [],
   "source": []
  },
  {
   "cell_type": "code",
   "execution_count": null,
   "metadata": {},
   "outputs": [],
   "source": []
  },
  {
   "cell_type": "code",
   "execution_count": null,
   "metadata": {},
   "outputs": [],
   "source": []
  }
 ],
 "metadata": {
  "kernelspec": {
   "display_name": ".venv",
   "language": "python",
   "name": "python3"
  },
  "language_info": {
   "codemirror_mode": {
    "name": "ipython",
    "version": 3
   },
   "file_extension": ".py",
   "mimetype": "text/x-python",
   "name": "python",
   "nbconvert_exporter": "python",
   "pygments_lexer": "ipython3",
   "version": "3.12.8"
  }
 },
 "nbformat": 4,
 "nbformat_minor": 2
}
